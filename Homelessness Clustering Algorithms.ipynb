{
 "cells": [
  {
   "cell_type": "code",
   "execution_count": 1,
   "id": "8498ed59",
   "metadata": {},
   "outputs": [
    {
     "name": "stdout",
     "output_type": "stream",
     "text": [
      "Imports completed successfully\n"
     ]
    }
   ],
   "source": [
    "# General package imports\n",
    "\n",
    "import pandas as pd\n",
    "import numpy as np\n",
    "import time\n",
    "\n",
    "print('Imports completed successfully')"
   ]
  },
  {
   "cell_type": "code",
   "execution_count": 2,
   "id": "b17ad03b",
   "metadata": {},
   "outputs": [
    {
     "name": "stdout",
     "output_type": "stream",
     "text": [
      "   personalid  projecttype_1_bednights  projecttype_1_count  \\\n",
      "0         342                     91.0                  4.0   \n",
      "1         401                      2.0                  2.0   \n",
      "2         402                      NaN                  NaN   \n",
      "3         424                      5.0                  5.0   \n",
      "4         438                    220.0                199.0   \n",
      "\n",
      "   projecttype_2_count  projecttype_3_count  projecttype_4_count  \\\n",
      "0                  NaN                  NaN                  NaN   \n",
      "1                  NaN                  1.0                  NaN   \n",
      "2                  NaN                  NaN                  NaN   \n",
      "3                  NaN                  NaN                  NaN   \n",
      "4                  NaN                  NaN                  1.0   \n",
      "\n",
      "   projecttype_6_count  projecttype_7_count  projecttype_8_count  \\\n",
      "0                  NaN                  2.0                  NaN   \n",
      "1                  1.0                  1.0                  NaN   \n",
      "2                  NaN                  NaN                  NaN   \n",
      "3                  1.0                  NaN                  NaN   \n",
      "4                  2.0                  NaN                  NaN   \n",
      "\n",
      "   projecttype_10_count  projecttype_12_count  projecttype_13_count  \\\n",
      "0                   NaN                   NaN                   NaN   \n",
      "1                   NaN                   NaN                   NaN   \n",
      "2                   NaN                   NaN                   NaN   \n",
      "3                   NaN                   NaN                   NaN   \n",
      "4                   NaN                   NaN                   NaN   \n",
      "\n",
      "   projecttype_14_count  \n",
      "0                   2.0  \n",
      "1                   1.0  \n",
      "2                   1.0  \n",
      "3                   NaN  \n",
      "4                   NaN  \n"
     ]
    }
   ],
   "source": [
    "url = 'https://raw.githubusercontent.com/djlittle/Homelessness_Clustering_Comparisons/master/Data/HMIS%20Data%20Extract.csv'\n",
    "\n",
    "dat = pd.read_csv(url) # Importing data\n",
    "\n",
    "print(dat.head())"
   ]
  },
  {
   "cell_type": "code",
   "execution_count": 3,
   "id": "fba032b8",
   "metadata": {},
   "outputs": [
    {
     "name": "stdout",
     "output_type": "stream",
     "text": [
      "   projecttype_1_bednights  projecttype_1_count  projecttype_2_count  \\\n",
      "0                     91.0                  4.0                  0.0   \n",
      "1                      2.0                  2.0                  0.0   \n",
      "2                      0.0                  0.0                  0.0   \n",
      "3                      5.0                  5.0                  0.0   \n",
      "4                    220.0                199.0                  0.0   \n",
      "\n",
      "   projecttype_3_count  projecttype_4_count  projecttype_6_count  \\\n",
      "0                  0.0                  0.0                  0.0   \n",
      "1                  1.0                  0.0                  1.0   \n",
      "2                  0.0                  0.0                  0.0   \n",
      "3                  0.0                  0.0                  1.0   \n",
      "4                  0.0                  1.0                  2.0   \n",
      "\n",
      "   projecttype_7_count  projecttype_8_count  projecttype_10_count  \\\n",
      "0                  2.0                  0.0                   0.0   \n",
      "1                  1.0                  0.0                   0.0   \n",
      "2                  0.0                  0.0                   0.0   \n",
      "3                  0.0                  0.0                   0.0   \n",
      "4                  0.0                  0.0                   0.0   \n",
      "\n",
      "   projecttype_12_count  projecttype_13_count  projecttype_14_count  \n",
      "0                   0.0                   0.0                   2.0  \n",
      "1                   0.0                   0.0                   1.0  \n",
      "2                   0.0                   0.0                   1.0  \n",
      "3                   0.0                   0.0                   0.0  \n",
      "4                   0.0                   0.0                   0.0  \n"
     ]
    }
   ],
   "source": [
    "\n",
    "# Dataframe manipulation and nan handling\n",
    "\n",
    "processing_times = pd.DataFrame()  # For assessing each algorithm's processing times\n",
    "\n",
    "df = dat.iloc[:, 1:]\n",
    "df.fillna(0, inplace=True) # Filling null values of the data frame with -1. \n",
    "# Other approaches to null handling are also of interest here.\n",
    "\n",
    "print(df.head())"
   ]
  },
  {
   "cell_type": "code",
   "execution_count": 4,
   "id": "4b5b4f51",
   "metadata": {},
   "outputs": [
    {
     "name": "stdout",
     "output_type": "stream",
     "text": [
      "Initialization complete\n",
      "Iteration 0, inertia 2612941.0\n",
      "Iteration 1, inertia 2374186.938283117\n",
      "Iteration 2, inertia 2340530.4414374847\n",
      "Iteration 3, inertia 2321686.461448122\n",
      "Iteration 4, inertia 2308898.122388003\n",
      "Iteration 5, inertia 2296695.7013488924\n",
      "Iteration 6, inertia 2287805.5963278837\n",
      "Iteration 7, inertia 2272051.2414504914\n",
      "Iteration 8, inertia 2255626.1055353708\n",
      "Iteration 9, inertia 2245154.2177489423\n",
      "Iteration 10, inertia 2235241.3080582237\n",
      "Iteration 11, inertia 2227555.462311367\n",
      "Iteration 12, inertia 2218289.399965343\n",
      "Iteration 13, inertia 2195098.2209785073\n",
      "Iteration 14, inertia 2162728.504435858\n",
      "Iteration 15, inertia 2120256.425743005\n",
      "Iteration 16, inertia 2074307.3536803597\n",
      "Iteration 17, inertia 2041848.560978191\n",
      "Iteration 18, inertia 2021270.524198289\n",
      "Iteration 19, inertia 1998698.4544390389\n",
      "Iteration 20, inertia 1971698.7532092584\n",
      "Iteration 21, inertia 1933815.8931755214\n",
      "Iteration 22, inertia 1905537.3726439478\n",
      "Iteration 23, inertia 1884766.4645904917\n",
      "Iteration 24, inertia 1869847.04074845\n",
      "Iteration 25, inertia 1862544.884128576\n",
      "Iteration 26, inertia 1855318.9955223715\n",
      "Iteration 27, inertia 1850183.831734202\n",
      "Iteration 28, inertia 1846892.6579326314\n",
      "Iteration 29, inertia 1843177.7618419924\n",
      "Iteration 30, inertia 1839582.973345129\n",
      "Iteration 31, inertia 1837382.0408849402\n",
      "Iteration 32, inertia 1835274.4610367164\n",
      "Iteration 33, inertia 1834351.096817921\n",
      "Iteration 34, inertia 1832551.796268179\n",
      "Iteration 35, inertia 1831904.302404102\n",
      "Iteration 36, inertia 1831891.7662137274\n",
      "Converged at iteration 36: strict convergence.\n",
      "Initialization complete\n",
      "Iteration 0, inertia 3021393.0\n",
      "Iteration 1, inertia 2236806.8755810848\n",
      "Iteration 2, inertia 2104572.573386462\n",
      "Iteration 3, inertia 2046192.2265767474\n",
      "Iteration 4, inertia 2011535.4952999211\n",
      "Iteration 5, inertia 1988215.9321275854\n",
      "Iteration 6, inertia 1962648.777798544\n",
      "Iteration 7, inertia 1947208.7369990177\n",
      "Iteration 8, inertia 1934815.1475147516\n",
      "Iteration 9, inertia 1925802.8839050145\n",
      "Iteration 10, inertia 1917449.7624776792\n",
      "Iteration 11, inertia 1911771.9315630726\n",
      "Iteration 12, inertia 1904446.1517241122\n",
      "Iteration 13, inertia 1898563.1626934467\n",
      "Iteration 14, inertia 1891971.2849651566\n",
      "Iteration 15, inertia 1886240.1864330855\n",
      "Iteration 16, inertia 1881807.8750411707\n",
      "Iteration 17, inertia 1878349.2886276126\n",
      "Iteration 18, inertia 1875522.0052226952\n",
      "Iteration 19, inertia 1873209.1175906342\n",
      "Iteration 20, inertia 1871064.3957395488\n",
      "Iteration 21, inertia 1870871.433962759\n",
      "Converged at iteration 21: strict convergence.\n",
      "Initialization complete\n",
      "Iteration 0, inertia 2505415.0\n",
      "Iteration 1, inertia 2044252.5072620707\n",
      "Iteration 2, inertia 1973807.0428790646\n",
      "Iteration 3, inertia 1939497.4205020494\n",
      "Iteration 4, inertia 1924672.4189652968\n",
      "Iteration 5, inertia 1916441.0018348328\n",
      "Iteration 6, inertia 1910158.51537843\n",
      "Iteration 7, inertia 1905259.1492836687\n",
      "Iteration 8, inertia 1900251.7916848338\n",
      "Iteration 9, inertia 1897782.9334716185\n",
      "Iteration 10, inertia 1895890.696414295\n",
      "Iteration 11, inertia 1892356.1225454456\n",
      "Iteration 12, inertia 1889369.4787926942\n",
      "Iteration 13, inertia 1887878.4431219453\n",
      "Iteration 14, inertia 1887013.5249456356\n",
      "Iteration 15, inertia 1886634.1538433193\n",
      "Iteration 16, inertia 1886540.9314731625\n",
      "Iteration 17, inertia 1886414.3838264472\n",
      "Iteration 18, inertia 1886399.7978867022\n",
      "Converged at iteration 18: strict convergence.\n",
      "Initialization complete\n",
      "Iteration 0, inertia 2534142.0\n",
      "Iteration 1, inertia 1915145.4742429934\n",
      "Iteration 2, inertia 1885944.4207340311\n",
      "Iteration 3, inertia 1879859.284178286\n",
      "Iteration 4, inertia 1877325.9546684765\n",
      "Iteration 5, inertia 1875900.8018736106\n",
      "Iteration 6, inertia 1875777.1798689882\n",
      "Iteration 7, inertia 1875318.217166796\n",
      "Iteration 8, inertia 1874770.6841261666\n",
      "Iteration 9, inertia 1874541.225600398\n",
      "Iteration 10, inertia 1874124.9160029378\n",
      "Iteration 11, inertia 1873955.4285471328\n",
      "Converged at iteration 11: center shift 0.0006163230466081303 within tolerance 0.017132684496567286.\n",
      "Initialization complete\n",
      "Iteration 0, inertia 2688880.0\n",
      "Iteration 1, inertia 2057921.73390723\n",
      "Iteration 2, inertia 1981257.0516348623\n",
      "Iteration 3, inertia 1954962.654210112\n",
      "Iteration 4, inertia 1935524.3295294687\n",
      "Iteration 5, inertia 1926631.3649143558\n",
      "Iteration 6, inertia 1922039.5932612312\n",
      "Iteration 7, inertia 1918520.426856096\n",
      "Iteration 8, inertia 1915651.813030838\n",
      "Iteration 9, inertia 1912159.0107170315\n",
      "Iteration 10, inertia 1909790.3330664309\n",
      "Iteration 11, inertia 1906777.6956146883\n",
      "Iteration 12, inertia 1905475.0385807483\n",
      "Iteration 13, inertia 1904651.819682781\n",
      "Iteration 14, inertia 1904602.8031381033\n",
      "Converged at iteration 14: center shift 0.007302578184038963 within tolerance 0.017132684496567286.\n",
      "Initialization complete\n",
      "Iteration 0, inertia 2540557.0\n",
      "Iteration 1, inertia 2274252.7351328596\n",
      "Iteration 2, inertia 2196479.162754206\n",
      "Iteration 3, inertia 2141858.3273898107\n",
      "Iteration 4, inertia 2104248.2159026777\n",
      "Iteration 5, inertia 2075764.6398947116\n",
      "Iteration 6, inertia 2069331.0533830975\n",
      "Iteration 7, inertia 2067530.4696491377\n",
      "Iteration 8, inertia 2067291.0385278782\n",
      "Converged at iteration 8: strict convergence.\n",
      "Initialization complete\n",
      "Iteration 0, inertia 2708075.0\n",
      "Iteration 1, inertia 1966496.5142459047\n",
      "Iteration 2, inertia 1899129.4642794675\n",
      "Iteration 3, inertia 1880550.4262626758\n",
      "Iteration 4, inertia 1871668.8350722608\n",
      "Iteration 5, inertia 1856940.987741508\n",
      "Iteration 6, inertia 1849890.9147293104\n",
      "Iteration 7, inertia 1841796.543058792\n",
      "Iteration 8, inertia 1838723.6777437162\n",
      "Iteration 9, inertia 1836096.6752997905\n",
      "Iteration 10, inertia 1835002.105321213\n",
      "Iteration 11, inertia 1833741.882931801\n",
      "Iteration 12, inertia 1832815.0853284427\n",
      "Iteration 13, inertia 1832709.109537725\n",
      "Converged at iteration 13: center shift 0.0014032543040982655 within tolerance 0.017132684496567286.\n",
      "Initialization complete\n",
      "Iteration 0, inertia 2159370.0\n",
      "Iteration 1, inertia 1869018.978177496\n",
      "Iteration 2, inertia 1851113.7445322322\n",
      "Iteration 3, inertia 1844275.5908624025\n",
      "Iteration 4, inertia 1840671.002105945\n",
      "Iteration 5, inertia 1838793.6195576014\n",
      "Iteration 6, inertia 1835398.144470562\n",
      "Iteration 7, inertia 1834276.0729614983\n",
      "Iteration 8, inertia 1833668.056346263\n",
      "Iteration 9, inertia 1833283.4722296172\n",
      "Iteration 10, inertia 1832786.1021082029\n",
      "Iteration 11, inertia 1831812.790796191\n",
      "Iteration 12, inertia 1831736.4392945431\n",
      "Converged at iteration 12: center shift 0.00019683411603274443 within tolerance 0.017132684496567286.\n",
      "Initialization complete\n",
      "Iteration 0, inertia 2186910.0\n",
      "Iteration 1, inertia 1924894.0945738058\n",
      "Iteration 2, inertia 1878432.7980324961\n",
      "Iteration 3, inertia 1842368.349246534\n",
      "Iteration 4, inertia 1830980.8036942862\n",
      "Iteration 5, inertia 1828710.0325379937\n",
      "Iteration 6, inertia 1827993.0064839146\n",
      "Iteration 7, inertia 1827437.9172181713\n",
      "Iteration 8, inertia 1827132.9624254229\n",
      "Converged at iteration 8: strict convergence.\n",
      "Initialization complete\n",
      "Iteration 0, inertia 2486609.0\n",
      "Iteration 1, inertia 2056932.233150282\n",
      "Iteration 2, inertia 1991504.7487978037\n",
      "Iteration 3, inertia 1952096.0115581888\n",
      "Iteration 4, inertia 1927552.8955113087\n",
      "Iteration 5, inertia 1911741.4502036974\n",
      "Iteration 6, inertia 1905113.2483416337\n",
      "Iteration 7, inertia 1895901.9692757344\n",
      "Iteration 8, inertia 1890056.3913886922\n",
      "Iteration 9, inertia 1884174.9902696083\n",
      "Iteration 10, inertia 1878795.6836764074\n",
      "Iteration 11, inertia 1875902.362560186\n",
      "Iteration 12, inertia 1873959.1831294734\n",
      "Iteration 13, inertia 1872081.515577334\n",
      "Iteration 14, inertia 1871037.231140924\n",
      "Iteration 15, inertia 1870268.2854410454\n",
      "Iteration 16, inertia 1869930.3786549647\n",
      "Converged at iteration 16: strict convergence.\n",
      "Kmeans model complete\n",
      "Processing time: 0.563819408416748 seconds\n"
     ]
    }
   ],
   "source": [
    "# Kmeans \n",
    "\n",
    "from sklearn.cluster import KMeans\n",
    "\n",
    "start = time.time()\n",
    "kmeans = KMeans(n_clusters=10, verbose=True).fit(df) # Model fitting\n",
    "kmeans_labels = kmeans.labels_ + 1  # Label assignment\n",
    "end = time.time()\n",
    "\n",
    "processing_times['kmeans'] = [(end - start)] # Computing processing time\n",
    "\n",
    "dat['kmeans'] = kmeans_labels # Attaching labels to original dataframe\n",
    "\n",
    "print('Kmeans model complete')\n",
    "print('Processing time: '+ str(processing_times['kmeans'][0]) + ' seconds')\n",
    "     "
   ]
  },
  {
   "cell_type": "code",
   "execution_count": 9,
   "id": "e6bf8a71",
   "metadata": {},
   "outputs": [
    {
     "name": "stdout",
     "output_type": "stream",
     "text": [
      "DBSCAN model complete\n",
      "Processing time: 15.308066129684448 seconds\n"
     ]
    }
   ],
   "source": [
    "# DBSCAN \n",
    "\n",
    "from sklearn.cluster import DBSCAN\n",
    "\n",
    "start = time.time()\n",
    "dbscan = DBSCAN(eps=2.5, min_samples=10).fit(df) # Model fitting\n",
    "dbscan_labels = dbscan.labels_ + 1 # Label assignment\n",
    "end = time.time()\n",
    "\n",
    "processing_times['dbscan'] = [(end - start)] # Computing processing time\n",
    "\n",
    "dat['dbscan'] = dbscan_labels # Attaching labels to original dataframe\n",
    "\n",
    "print('DBSCAN model complete')\n",
    "print('Processing time: '+ str(processing_times['dbscan'][0]) + ' seconds')"
   ]
  },
  {
   "cell_type": "code",
   "execution_count": 11,
   "id": "8563a94e",
   "metadata": {},
   "outputs": [
    {
     "name": "stdout",
     "output_type": "stream",
     "text": [
      "BIRCH model complete\n",
      "Processing time: 1.3186252117156982 seconds\n"
     ]
    }
   ],
   "source": [
    "# Birch algorithm\n",
    "\n",
    "from sklearn.cluster import Birch\n",
    "\n",
    "start = time.time()\n",
    "birch = Birch(branching_factor=1000, n_clusters=10, threshold=1.5).fit(df) # Model fitting\n",
    "birch_labels = birch.labels_+1 # Label assignment\n",
    "end = time.time()\n",
    "\n",
    "processing_times['birch'] = [(end - start)] # Computing processing time\n",
    "\n",
    "dat['birch'] = birch_labels # Attaching labels to original dataframe\n",
    "\n",
    "print('BIRCH model complete')\n",
    "print('Processing time: '+ str(processing_times['birch'][0]) + ' seconds')"
   ]
  },
  {
   "cell_type": "code",
   "execution_count": 12,
   "id": "35a1caa0",
   "metadata": {},
   "outputs": [
    {
     "name": "stdout",
     "output_type": "stream",
     "text": [
      "     kmeans     dbscan     birch\n",
      "0  0.563819  15.308066  1.318625\n",
      "{1: 22815, 2: 471, 3: 1483, 4: 58, 5: 1041, 6: 299, 7: 100, 8: 1946, 9: 52, 10: 1080}\n",
      "{0: 988, 1: 28104, 2: 17, 3: 15, 4: 103, 5: 31, 6: 19, 7: 35, 8: 10, 9: 11, 10: 12}\n",
      "{1: 2048, 2: 200, 3: 25214, 4: 1234, 5: 37, 6: 41, 7: 48, 8: 449, 9: 57, 10: 17}\n"
     ]
    }
   ],
   "source": [
    "\n",
    "# Comparing clusters\n",
    "\n",
    "print(processing_times) # Print of vector containing process times\n",
    "\n",
    "unique, counts = np.unique(kmeans_labels, return_counts=True) # Returning counts of each cluster \n",
    "kmeans_clusters = dict(zip(unique, counts)) # Organizing counts\n",
    "print(kmeans_clusters)  # Output to user \n",
    "\n",
    "unique, counts = np.unique(dbscan_labels, return_counts=True)\n",
    "dbscan_clusters = dict(zip(unique, counts))\n",
    "print(dbscan_clusters)\n",
    "\n",
    "unique, counts = np.unique(birch_labels, return_counts=True)\n",
    "birch_clusters = dict(zip(unique, counts))\n",
    "print(birch_clusters)"
   ]
  },
  {
   "cell_type": "code",
   "execution_count": 13,
   "id": "5030a793",
   "metadata": {},
   "outputs": [
    {
     "name": "stdout",
     "output_type": "stream",
     "text": [
      "Beginning k = 2\n",
      "Beginning k = 3\n",
      "Beginning k = 4\n",
      "Beginning k = 5\n",
      "Beginning k = 6\n",
      "Beginning k = 7\n",
      "Beginning k = 8\n",
      "Beginning k = 9\n",
      "Beginning k = 10\n",
      "Beginning k = 11\n",
      "Beginning k = 12\n",
      "Beginning k = 13\n",
      "Beginning k = 14\n",
      "Beginning k = 15\n",
      "Beginning k = 16\n",
      "Beginning k = 17\n",
      "Beginning k = 18\n",
      "Beginning k = 19\n",
      "Beginning k = 20\n",
      "Beginning k = 21\n",
      "Beginning k = 22\n",
      "Beginning k = 23\n",
      "Beginning k = 24\n",
      "Beginning k = 25\n",
      "Beginning k = 26\n",
      "Beginning k = 27\n",
      "Beginning k = 28\n",
      "Beginning k = 29\n",
      "Beginning k = 30\n",
      "Beginning k = 31\n",
      "Beginning k = 32\n",
      "Beginning k = 33\n",
      "Beginning k = 34\n",
      "Beginning k = 35\n",
      "Beginning k = 36\n",
      "Beginning k = 37\n",
      "Beginning k = 38\n",
      "Beginning k = 39\n",
      "Beginning k = 40\n",
      "Beginning k = 41\n",
      "Beginning k = 42\n",
      "Beginning k = 43\n",
      "Beginning k = 44\n",
      "Beginning k = 45\n",
      "Beginning k = 46\n",
      "Beginning k = 47\n",
      "Beginning k = 48\n",
      "Beginning k = 49\n"
     ]
    },
    {
     "data": {
      "image/png": "[encoded data removed]",
      "text/plain": [
       "<Figure size 432x288 with 1 Axes>"
      ]
     },
     "metadata": {
      "needs_background": "light"
     },
     "output_type": "display_data"
    }
   ],
   "source": [
    "from matplotlib import pyplot as plt  # Import for graphing\n",
    "\n",
    "# Elbow method for assessing k number of clusters\n",
    "wcss = [] # Null dataframe to store sum of squared distances\n",
    "K = range(2, 50)  # Range to assess\n",
    "for k in K:\n",
    "    print(\"Beginning k = \" + str(k))\n",
    "    kmeans_k = KMeans(n_clusters=k).fit(df) # Fitting to k number of clusters\n",
    "    wcss.append(kmeans_k.inertia_) # Storing data\n",
    "\n",
    "# Elbow methog graphing\n",
    "plt.plot(K, wcss, 'bx-')\n",
    "plt.xlabel('k')\n",
    "plt.ylabel('Sum_of_squared_distances')\n",
    "plt.title('Elbow Method For Optimal k')\n",
    "plt.show()"
   ]
  },
  {
   "cell_type": "code",
   "execution_count": 15,
   "id": "446bbce7",
   "metadata": {},
   "outputs": [],
   "source": [
    "\n",
    "from scipy.cluster import hierarchy\n",
    "from matplotlib import pyplot as plt\n",
    "\n",
    "sample_size = 100 # Random sample of 100 points from original dataset\n",
    "\n",
    "df_sub = dat.iloc[:, 1:].sample(n=sample_size) # Sampling function\n",
    "df_sub.fillna(-1, inplace=True) # Null value handling same as above"
   ]
  },
  {
   "cell_type": "code",
   "execution_count": 16,
   "id": "88c33567",
   "metadata": {},
   "outputs": [
    {
     "data": {
      "image/png": "[encoded data removed]",
      "text/plain": [
       "<Figure size 1800x720 with 1 Axes>"
      ]
     },
     "metadata": {
      "needs_background": "light"
     },
     "output_type": "display_data"
    }
   ],
   "source": [
    "# Euclidean Distance\n",
    "\n",
    "link_euclidean = hierarchy.linkage(df_sub, method='single', metric='euclidean')\n",
    "\n",
    "fig = plt.figure(figsize=(25, 10))\n",
    "dn = hierarchy.dendrogram(link_euclidean)\n",
    "plt.show()"
   ]
  },
  {
   "cell_type": "code",
   "execution_count": 17,
   "id": "cb2fb3c6",
   "metadata": {},
   "outputs": [
    {
     "data": {
      "image/png": "[encoded data removed]",
      "text/plain": [
       "<Figure size 1800x720 with 1 Axes>"
      ]
     },
     "metadata": {
      "needs_background": "light"
     },
     "output_type": "display_data"
    }
   ],
   "source": [
    "# Repeated call with Hamming distance instead\n",
    "\n",
    "link_hamming = hierarchy.linkage(df_sub, method='single', metric='hamming')\n",
    "\n",
    "fig = plt.figure(figsize=(25, 10))\n",
    "dn = hierarchy.dendrogram(link_hamming)\n",
    "plt.show()"
   ]
  },
  {
   "cell_type": "code",
   "execution_count": null,
   "id": "bc5ff223",
   "metadata": {},
   "outputs": [],
   "source": []
  }
 ],
 "metadata": {
  "kernelspec": {
   "display_name": "Python 3 (ipykernel)",
   "language": "python",
   "name": "python3"
  },
  "language_info": {
   "codemirror_mode": {
    "name": "ipython",
    "version": 3
   },
   "file_extension": ".py",
   "mimetype": "text/x-python",
   "name": "python",
   "nbconvert_exporter": "python",
   "pygments_lexer": "ipython3",
   "version": "3.9.12"
  }
 },
 "nbformat": 4,
 "nbformat_minor": 5
}
